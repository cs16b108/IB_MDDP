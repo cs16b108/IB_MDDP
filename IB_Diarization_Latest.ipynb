{
  "nbformat": 4,
  "nbformat_minor": 0,
  "metadata": {
    "colab": {
      "name": "IB_Diarization_New.ipynb",
      "provenance": [],
      "collapsed_sections": [],
      "toc_visible": true,
      "include_colab_link": true
    },
    "kernelspec": {
      "name": "python3",
      "display_name": "Python 3"
    }
  },
  "cells": [
    {
      "cell_type": "markdown",
      "metadata": {
        "id": "view-in-github",
        "colab_type": "text"
      },
      "source": [
        "<a href=\"https://colab.research.google.com/github/cs16b108/IB_MDDP/blob/master/IB_Diarization_Latest.ipynb\" target=\"_parent\"><img src=\"https://colab.research.google.com/assets/colab-badge.svg\" alt=\"Open In Colab\"/></a>"
      ]
    },
    {
      "cell_type": "code",
      "metadata": {
        "id": "D5jANRDmEMlV",
        "outputId": "0459b532-ac76-40b1-b062-8e7239b3fef2",
        "colab": {
          "base_uri": "https://localhost:8080/",
          "height": 36
        }
      },
      "source": [
        "from google.colab import drive\n",
        "drive.mount('/content/drive')"
      ],
      "execution_count": 1,
      "outputs": [
        {
          "output_type": "stream",
          "text": [
            "Mounted at /content/drive\n"
          ],
          "name": "stdout"
        }
      ]
    },
    {
      "cell_type": "code",
      "metadata": {
        "id": "A2xzt9uJrsZF",
        "outputId": "ab5915ca-2392-451e-8564-102cc288cb6b",
        "colab": {
          "base_uri": "https://localhost:8080/",
          "height": 560
        }
      },
      "source": [
        "!pip install webrtcvad\n",
        "!pip install hmmlearn==0.2.3\n",
        "!pip install python_speech_features"
      ],
      "execution_count": 2,
      "outputs": [
        {
          "output_type": "stream",
          "text": [
            "Collecting webrtcvad\n",
            "\u001b[?25l  Downloading https://files.pythonhosted.org/packages/89/34/e2de2d97f3288512b9ea56f92e7452f8207eb5a0096500badf9dfd48f5e6/webrtcvad-2.0.10.tar.gz (66kB)\n",
            "\r\u001b[K     |█████                           | 10kB 14.7MB/s eta 0:00:01\r\u001b[K     |██████████                      | 20kB 2.1MB/s eta 0:00:01\r\u001b[K     |██████████████▉                 | 30kB 2.7MB/s eta 0:00:01\r\u001b[K     |███████████████████▉            | 40kB 3.0MB/s eta 0:00:01\r\u001b[K     |████████████████████████▊       | 51kB 2.4MB/s eta 0:00:01\r\u001b[K     |█████████████████████████████▊  | 61kB 2.7MB/s eta 0:00:01\r\u001b[K     |████████████████████████████████| 71kB 2.2MB/s \n",
            "\u001b[?25hBuilding wheels for collected packages: webrtcvad\n",
            "  Building wheel for webrtcvad (setup.py) ... \u001b[?25l\u001b[?25hdone\n",
            "  Created wheel for webrtcvad: filename=webrtcvad-2.0.10-cp36-cp36m-linux_x86_64.whl size=71382 sha256=954b6afb0c3f0ec873be034f031c596c9817201bddfc6d7d765c6d5927d84fcf\n",
            "  Stored in directory: /root/.cache/pip/wheels/44/2a/18/bd1aec41cac7c3051fe95d92a6ed446122ea31dc713c432fa1\n",
            "Successfully built webrtcvad\n",
            "Installing collected packages: webrtcvad\n",
            "Successfully installed webrtcvad-2.0.10\n",
            "Collecting hmmlearn==0.2.3\n",
            "\u001b[?25l  Downloading https://files.pythonhosted.org/packages/ff/7b/33f629a443a0671161c019e55c3f1b511c7e9fdce5ab8c8c3c33470eb939/hmmlearn-0.2.3-cp36-cp36m-manylinux1_x86_64.whl (363kB)\n",
            "\u001b[K     |████████████████████████████████| 368kB 3.4MB/s \n",
            "\u001b[?25hRequirement already satisfied: scikit-learn>=0.16 in /usr/local/lib/python3.6/dist-packages (from hmmlearn==0.2.3) (0.22.2.post1)\n",
            "Requirement already satisfied: scipy>=0.15 in /usr/local/lib/python3.6/dist-packages (from hmmlearn==0.2.3) (1.4.1)\n",
            "Requirement already satisfied: numpy>=1.10 in /usr/local/lib/python3.6/dist-packages (from hmmlearn==0.2.3) (1.18.5)\n",
            "Requirement already satisfied: joblib>=0.11 in /usr/local/lib/python3.6/dist-packages (from scikit-learn>=0.16->hmmlearn==0.2.3) (0.16.0)\n",
            "Installing collected packages: hmmlearn\n",
            "Successfully installed hmmlearn-0.2.3\n",
            "Collecting python_speech_features\n",
            "  Downloading https://files.pythonhosted.org/packages/ff/d1/94c59e20a2631985fbd2124c45177abaa9e0a4eee8ba8a305aa26fc02a8e/python_speech_features-0.6.tar.gz\n",
            "Building wheels for collected packages: python-speech-features\n",
            "  Building wheel for python-speech-features (setup.py) ... \u001b[?25l\u001b[?25hdone\n",
            "  Created wheel for python-speech-features: filename=python_speech_features-0.6-cp36-none-any.whl size=5887 sha256=71c70bd7a48aea3765ee1131ccdd3b9af26e83c63f5a052c9a6ebfbf6db34cc5\n",
            "  Stored in directory: /root/.cache/pip/wheels/3c/42/7c/f60e9d1b40015cd69b213ad90f7c18a9264cd745b9888134be\n",
            "Successfully built python-speech-features\n",
            "Installing collected packages: python-speech-features\n",
            "Successfully installed python-speech-features-0.6\n"
          ],
          "name": "stdout"
        }
      ]
    },
    {
      "cell_type": "code",
      "metadata": {
        "id": "h4zv8xRTrsZU"
      },
      "source": [
        "import os\n",
        "from os.path import isfile, isdir, join\n",
        "from pathlib import Path\n",
        "import math\n",
        "import numpy as np\n",
        "# import numpy as np\n",
        "import random\n",
        "# import math\n",
        "from scipy.stats import multivariate_normal\n",
        "from matplotlib import pyplot as plt\n",
        "from scipy.spatial import distance\n",
        "import scipy.io.wavfile as wav\n",
        "from python_speech_features import mfcc"
      ],
      "execution_count": 3,
      "outputs": []
    },
    {
      "cell_type": "code",
      "metadata": {
        "id": "DHCZqd13rsZW"
      },
      "source": [
        "########################################################\n",
        "############## Read WAV and perform VAD ################\n",
        "## Already done once and files stored on google drive ##\n",
        "########################################################\n",
        "\n",
        "# import collections\n",
        "# import contextlib\n",
        "# import sys\n",
        "# import wave\n",
        "# import webrtcvad\n",
        "\n",
        "\n",
        "# def read_wave(path):\n",
        "#     \"\"\"Reads a .wav file.\n",
        "#     Takes the path, and returns (PCM audio data, sample rate).\n",
        "#     \"\"\"\n",
        "#     with contextlib.closing(wave.open(path, 'rb')) as wf:\n",
        "#         num_channels = wf.getnchannels()\n",
        "#         assert num_channels == 1\n",
        "#         sample_width = wf.getsampwidth()\n",
        "#         assert sample_width == 2\n",
        "#         sample_rate = wf.getframerate()\n",
        "#         assert sample_rate in (8000, 16000, 32000, 48000)\n",
        "#         pcm_data = wf.readframes(wf.getnframes())\n",
        "#         return pcm_data, sample_rate\n",
        "\n",
        "\n",
        "# def write_wave(path, audio, sample_rate):\n",
        "#     \"\"\"Writes a .wav file.\n",
        "#     Takes path, PCM audio data, and sample rate.\n",
        "#     \"\"\"\n",
        "#     with contextlib.closing(wave.open(path, 'wb')) as wf:\n",
        "#         wf.setnchannels(1)\n",
        "#         wf.setsampwidth(2)\n",
        "#         wf.setframerate(sample_rate)\n",
        "#         wf.writeframes(audio)\n",
        "\n",
        "\n",
        "# class Frame(object):\n",
        "#     \"\"\"Represents a \"frame\" of audio data.\"\"\"\n",
        "#     def __init__(self, bytes, timestamp, duration):\n",
        "#         self.bytes = bytes\n",
        "#         self.timestamp = timestamp\n",
        "#         self.duration = duration\n",
        "\n",
        "\n",
        "# def frame_generator(frame_duration_ms, audio, sample_rate):\n",
        "#     \"\"\"Generates audio frames from PCM audio data.\n",
        "#     Takes the desired frame duration in milliseconds, the PCM data, and\n",
        "#     the sample rate.\n",
        "#     Yields Frames of the requested duration.\n",
        "#     \"\"\"\n",
        "#     n = int(sample_rate * (frame_duration_ms / 1000.0) * 2)\n",
        "#     offset = 0\n",
        "#     timestamp = 0.0\n",
        "#     duration = (float(n) / sample_rate) / 2.0\n",
        "#     while offset + n < len(audio):\n",
        "#         yield Frame(audio[offset:offset + n], timestamp, duration)\n",
        "#         timestamp += duration\n",
        "#         offset += n\n",
        "\n",
        "\n",
        "# def vad_collector(sample_rate, frame_duration_ms,\n",
        "#                   padding_duration_ms, vad, frames,vuv_frames):\n",
        "#     \"\"\"Filters out non-voiced audio frames.\n",
        "#     Given a webrtcvad.Vad and a source of audio frames, yields only\n",
        "#     the voiced audio.\n",
        "#     Uses a padded, sliding window algorithm over the audio frames.\n",
        "#     When more than 90% of the frames in the window are voiced (as\n",
        "#     reported by the VAD), the collector triggers and begins yielding\n",
        "#     audio frames. Then the collector waits until 90% of the frames in\n",
        "#     the window are unvoiced to detrigger.\n",
        "#     The window is padded at the front and back to provide a small\n",
        "#     amount of silence or the beginnings/endings of speech around the\n",
        "#     voiced frames.\n",
        "#     Arguments:\n",
        "#     sample_rate - The audio sample rate, in Hz.\n",
        "#     frame_duration_ms - The frame duration in milliseconds.\n",
        "#     padding_duration_ms - The amount to pad the window, in milliseconds.\n",
        "#     vad - An instance of webrtcvad.Vad.\n",
        "#     frames - a source of audio frames (sequence or generator).\n",
        "#     Returns: A generator that yields PCM audio data.\n",
        "#     \"\"\"\n",
        "#     num_padding_frames = int(padding_duration_ms / frame_duration_ms)\n",
        "#     # We use a deque for our sliding window/ring buffer.\n",
        "#     ring_buffer = collections.deque(maxlen=num_padding_frames)\n",
        "#     # We have two states: TRIGGERED and NOTTRIGGERED. We start in the\n",
        "#     # NOTTRIGGERED state.\n",
        "#     triggered = False\n",
        "\n",
        "#     index=-1\n",
        "#     voiced_frames = []\n",
        "#     for frame in frames:\n",
        "\n",
        "#         index+=1\n",
        "#         is_speech = vad.is_speech(frame.bytes, sample_rate)\n",
        "\n",
        "#         sys.stdout.write('1' if is_speech else '0')\n",
        "#         if not triggered:\n",
        "#             ring_buffer.append((frame, is_speech))\n",
        "#             num_voiced = len([f for f, speech in ring_buffer if speech])\n",
        "#             # If we're NOTTRIGGERED and more than 90% of the frames in\n",
        "#             # the ring buffer are voiced frames, then enter the\n",
        "#             # TRIGGERED state.\n",
        "#             if num_voiced > 0.9 * ring_buffer.maxlen:\n",
        "#                 triggered = True\n",
        "#                 sys.stdout.write('+(%s)' % (ring_buffer[0][0].timestamp,))\n",
        "#                 # We want to yield all the audio we see from now until\n",
        "#                 # we are NOTTRIGGERED, but we have to start with the\n",
        "#                 # audio that's already in the ring buffer.\n",
        "\n",
        "#                 id = 0 #we must start actually with num_padding_frames-1 and do index-- \n",
        "#                 for f, s in ring_buffer:\n",
        "#                     voiced_frames.append(f)\n",
        "#                     vuv_frames[index-id]=1\n",
        "#                     id+=1\n",
        "\n",
        "#                 ring_buffer.clear()\n",
        "#         else:\n",
        "#             # We're in the TRIGGERED state, so collect the audio data\n",
        "#             # and add it to the ring buffer.\n",
        "#             voiced_frames.append(frame)\n",
        "#             vuv_frames[index] = 1\n",
        "#             ring_buffer.append((frame, is_speech))\n",
        "#             num_unvoiced = len([f for f, speech in ring_buffer if not speech])\n",
        "#             # If more than 90% of the frames in the ring buffer are\n",
        "#             # unvoiced, then enter NOTTRIGGERED and yield whatever\n",
        "#             # audio we've collected.\n",
        "#             if num_unvoiced > 0.9 * ring_buffer.maxlen:\n",
        "#                 sys.stdout.write('-(%s)' % (frame.timestamp + frame.duration))\n",
        "#                 triggered = False\n",
        "#                 yield b''.join([f.bytes for f in voiced_frames])\n",
        "#                 ring_buffer.clear()\n",
        "#                 voiced_frames = []\n",
        "#     if triggered:\n",
        "#         sys.stdout.write('-(%s)' % (frame.timestamp + frame.duration))\n",
        "#     sys.stdout.write('\\n')\n",
        "#     # If we have any leftover voiced audio when we run out of input,\n",
        "#     # yield it.\n",
        "#     if voiced_frames:\n",
        "#         yield b''.join([f.bytes for f in voiced_frames])\n"
      ],
      "execution_count": 4,
      "outputs": []
    },
    {
      "cell_type": "code",
      "metadata": {
        "id": "na0eIG-qrsZY"
      },
      "source": [
        "# def main():\n",
        "#     # if len(args) != 2:\n",
        "#     #     sys.stderr.write(\n",
        "#     #         'Usage: silenceremove.py <aggressiveness> <path to wav file>\\n')\n",
        "#     #     sys.exit(1)\n",
        "#     path = '/content/amicorpus/'\n",
        "#     dir_list = sorted(os.listdir(path))\n",
        "#     cnt = 0\n",
        "#     for d in dir_list:\n",
        "#       dir_name = join(path,d)\n",
        "#       if isdir(dir_name):\n",
        "#         filePath = join(path, d, 'audio', d+'.Mix-Headset.wav')\n",
        "#         try:\n",
        "#           audio, sample_rate = read_wave(filePath)\n",
        "#           vad = webrtcvad.Vad(int(1))\n",
        "#           frames = frame_generator(30, audio, sample_rate)\n",
        "#           frames = list(frames)\n",
        "#           nof_frames = 1+(len(audio)-1)/int(sample_rate * (frame_duration_ms / 1000.0) * 2)\n",
        "#           vuv_frames = np.zeros((nof_frames],)) \n",
        "#           segments = vad_collector(sample_rate, 30, 300, vad, frames,vuv_frames)\n",
        "\n",
        "#           # Segmenting the Voice audio and save it in list as bytes\n",
        "#           concataudio = [segment for segment in segments]\n",
        "\n",
        "#           joinedaudio = b\"\".join(concataudio)\n",
        "#           writePath = join('/content/drive/My Drive/IB_Diarization/amicorpus_non_silence', d, 'audio')\n",
        "#           Path(writePath).mkdir(parents=True, exist_ok=True)\n",
        "#           write_wave(join(writePath, d+'.Mix-Headset.wav'), joinedaudio, sample_rate)\n",
        "#           cnt += 1\n",
        "#           # if(cnt == 2):\n",
        "#           #   break\n",
        "#         except:\n",
        "#           print(\"Skipping: \", filePath)\n",
        "#     print(\"Converted: \",cnt)\n",
        "# if __name__ == '__main__':\n",
        "#     main()"
      ],
      "execution_count": 5,
      "outputs": []
    },
    {
      "cell_type": "code",
      "metadata": {
        "id": "mR0Yhd0OrsZb"
      },
      "source": [
        "# rm -rf amicorpus_non_silence/"
      ],
      "execution_count": 6,
      "outputs": []
    },
    {
      "cell_type": "code",
      "metadata": {
        "id": "LqNiYH1QrsZd"
      },
      "source": [
        "# !chmod 755 amiBuild-13720-Mon-Aug-31-2020.wget.sh"
      ],
      "execution_count": 7,
      "outputs": []
    },
    {
      "cell_type": "code",
      "metadata": {
        "id": "9euMwS6NrsZf"
      },
      "source": [
        "# !ls -l '/content/drive/My Drive/amicorpus_non_silence' | wc -l"
      ],
      "execution_count": 8,
      "outputs": []
    },
    {
      "cell_type": "code",
      "metadata": {
        "id": "C8RJQMUbrsZh"
      },
      "source": [
        "# !./amiBuild-13720-Mon-Aug-31-2020.wget.sh"
      ],
      "execution_count": 9,
      "outputs": []
    },
    {
      "cell_type": "code",
      "metadata": {
        "id": "n0k0Zr8IrsZj"
      },
      "source": [
        "# !tar -czvf filename.tar.gz amicorpus"
      ],
      "execution_count": 10,
      "outputs": []
    },
    {
      "cell_type": "code",
      "metadata": {
        "id": "oR1tYAM5rsZl"
      },
      "source": [
        "# !cp filename.tar.gz /content/drive/My\\ Drive/amicorpus.tar.gz"
      ],
      "execution_count": 11,
      "outputs": []
    },
    {
      "cell_type": "code",
      "metadata": {
        "id": "fZIAuddBrsZn"
      },
      "source": [
        "# !tar -xzvf /content/drive/My\\ Drive/amicorpus.tar.gz"
      ],
      "execution_count": 12,
      "outputs": []
    },
    {
      "cell_type": "code",
      "metadata": {
        "id": "9SQrCOiIrsZp"
      },
      "source": [
        "# !./ComputeFeatures mfcc.config /content/drive/My\\ Drive/amicorpus_non_silence/ES2002b/audio/ES2002b.Mix-Headset.wav frameCepstrum+frameDeltaCepstrum sa1.mfcc 0.06 A"
      ],
      "execution_count": 13,
      "outputs": []
    },
    {
      "cell_type": "code",
      "metadata": {
        "id": "FuIsCQE6rsZs"
      },
      "source": [
        "# !chmod 755 ComputeFeatures"
      ],
      "execution_count": 14,
      "outputs": []
    },
    {
      "cell_type": "code",
      "metadata": {
        "id": "LHq9U1yQrsZv"
      },
      "source": [
        "# !chmod 755 mfcc.config"
      ],
      "execution_count": 15,
      "outputs": []
    },
    {
      "cell_type": "code",
      "metadata": {
        "id": "ZePchLWDrsZx"
      },
      "source": [
        "####################################\n",
        "### Actual Code Starts from Here ###\n",
        "####################################"
      ],
      "execution_count": 16,
      "outputs": []
    },
    {
      "cell_type": "code",
      "metadata": {
        "id": "mMQYh3vgFXzO",
        "outputId": "6be3fb11-1a00-44d4-a2a0-7237e2e1ced0",
        "colab": {
          "base_uri": "https://localhost:8080/",
          "height": 73
        }
      },
      "source": [
        "%cd '/content/drive/My Drive/IB_Diarization/amicorpus_non_silence/ES2002b/audio/'\n",
        "!ls\n",
        "%cd /content"
      ],
      "execution_count": 17,
      "outputs": [
        {
          "output_type": "stream",
          "text": [
            "/content/drive/My Drive/IB_Diarization/amicorpus_non_silence/ES2002b/audio\n",
            "ES2002b.Mix-Headset.wav\n",
            "/content\n"
          ],
          "name": "stdout"
        }
      ]
    },
    {
      "cell_type": "code",
      "metadata": {
        "id": "5ekr76KGrsZ0"
      },
      "source": [
        "#Define path to wav files created after VAD\n",
        "path = '/content/drive/My Drive/IB_Diarization/amicorpus_non_silence/'\n",
        "\n",
        "overlap = 0.01 #10 ms window shift\n",
        "fullPath = join(path,'ES2002b/audio/ES2002b.Mix-Headset.wav')\n",
        "(rate,sig) = wav.read(fullPath)\n",
        "mfcc_feat = mfcc(sig, rate, numcep = 19, nfilt = 26, winlen=0.03, winstep=overlap)"
      ],
      "execution_count": 18,
      "outputs": []
    },
    {
      "cell_type": "code",
      "metadata": {
        "id": "tA4XNF2XxeAx"
      },
      "source": [
        "n, d = mfcc_feat.shape"
      ],
      "execution_count": 19,
      "outputs": []
    },
    {
      "cell_type": "code",
      "metadata": {
        "id": "NYpv2WHys4m6"
      },
      "source": [
        "# overlap = 0.01 #10 ms window shift\n",
        "init_cluster_time = 2500 #2.5sec\n",
        "init_cluster_len = math.ceil(init_cluster_time/(overlap*1000))"
      ],
      "execution_count": 20,
      "outputs": []
    },
    {
      "cell_type": "code",
      "metadata": {
        "id": "fttKNb7UtQ7z"
      },
      "source": [
        "num_of_clusters = math.ceil(n/init_cluster_len)"
      ],
      "execution_count": 21,
      "outputs": []
    },
    {
      "cell_type": "code",
      "metadata": {
        "id": "t_AYZWAdxN_U",
        "outputId": "5d409f17-cf3e-43ba-d1e7-53ec4c9a0f4a",
        "colab": {
          "base_uri": "https://localhost:8080/",
          "height": 36
        }
      },
      "source": [
        "num_of_clusters"
      ],
      "execution_count": 22,
      "outputs": [
        {
          "output_type": "execute_result",
          "data": {
            "text/plain": [
              "812"
            ]
          },
          "metadata": {
            "tags": []
          },
          "execution_count": 22
        }
      ]
    },
    {
      "cell_type": "code",
      "metadata": {
        "id": "wlH4hUMdxnkA"
      },
      "source": [
        "t = np.array_split(mfcc_feat, 3)"
      ],
      "execution_count": 23,
      "outputs": []
    },
    {
      "cell_type": "code",
      "metadata": {
        "id": "B2qzsMekx04_"
      },
      "source": [
        "class GMM:\n",
        "    def __init__(self, num_of_clusters):\n",
        "        self.num_of_clusters = num_of_clusters\n",
        "        self.log_likelihood =[]\n",
        "        self.LL_diff = []\n",
        "        # self.num_of_speakers = num_of_speakers\n",
        "\n",
        "    def gaussian_prob(self, x, mean, sigma):\n",
        "        d = x.shape[0]\n",
        "        p = ((2*math.pi)**(-d/2))*(np.linalg.det(sigma)**(-0.5))*np.exp(-0.5*(x-mean).reshape(d,1).T.dot(np.linalg.inv(sigma)).dot((x-mean).reshape(d,1)))\n",
        "        return p\n",
        "\n",
        "    def k_means(self, X):\n",
        "        n = X.shape[0]\n",
        "        d = X.shape[1]\n",
        "        itr = 0\n",
        "        #self.centroid = np.zeros((self.num_of_clusters, d), dtype = 'float64')\n",
        "        self.centroids = X[random.sample(range(n), self.num_of_clusters)]\n",
        "        self.cluster_assigned = np.zeros(n, dtype = int)\n",
        "        error = 0.0\n",
        "        while True:\n",
        "            print(\"Now at itr - \", itr)\n",
        "            # print(\"Centroids - \", self.centroids)\n",
        "            for i in range(n):\n",
        "                f_vec = X[i]\n",
        "                dist = np.sqrt(np.sum((f_vec-self.centroids)**2, 1))\n",
        "                # print(\"Dist Shape is - \", dist.shape)\n",
        "                self.cluster_assigned[i] = np.argmin(dist)\n",
        "            new_error = np.sum(np.sqrt(np.sum((X - self.centroids[self.cluster_assigned])**2, 1)))\n",
        "            if(itr>0):\n",
        "                print(\"Error Difference is - \", np.abs(error-new_error))\n",
        "            new_centroids = np.zeros((self.num_of_clusters, d), dtype = 'float64')\n",
        "            count_of_elements = np.zeros(self.num_of_clusters, dtype = int)\n",
        "            for i in range(n):\n",
        "                c_ind = self.cluster_assigned[i]\n",
        "                new_centroids[c_ind] += X[i]\n",
        "                count_of_elements[c_ind] += 1\n",
        "            new_centroids = new_centroids/count_of_elements[:,None]\n",
        "            if np.abs(new_error-error)<10 or np.array_equal(self.centroids, new_centroids) or itr>=5:\n",
        "                print(\"Breaking at itr - \", itr)\n",
        "                break\n",
        "            else:\n",
        "                self.centroids = np.copy(new_centroids)\n",
        "            itr += 1\n",
        "            error = new_error\n",
        "\n",
        "    def EM_GMM_INBUILT(self, X):\n",
        "        N = X.shape[0]\n",
        "        d = X.shape[1]\n",
        "        from sklearn.mixture import GaussianMixture as GMM\n",
        "        g = GMM(n_components=64, covariance_type = 'full', max_iter = 1)\n",
        "        g.fit(X)\n",
        "        print(\"Created\")\n",
        "\n",
        "    def EM_GMM(self, X):\n",
        "        N = X.shape[0]\n",
        "        d = X.shape[1]\n",
        "        self.cov_mat = np.zeros((self.num_of_clusters, d, d), dtype = 'float64')\n",
        "        self.gamma = np.zeros((N,self.num_of_clusters), dtype = 'float64')\n",
        "        likelihood = np.zeros((N,self.num_of_clusters), dtype = 'float64')\n",
        "        self.pi_prob = np.zeros(self.num_of_clusters, dtype = 'float64')\n",
        "        self.Nk = np.zeros(self.num_of_clusters, dtype = 'float64')\n",
        "        for k in range(self.num_of_clusters):\n",
        "            indices = (np.argwhere(self.cluster_assigned==k)).ravel()\n",
        "            X_k = X[indices]\n",
        "            X_k_centered = X_k - self.centroids[k]\n",
        "            self.Nk[k] = X_k.shape[0]\n",
        "            # print(\"Xk \",X_k.shape)\n",
        "            # print(\"Xkc \",X_k_centered.shape)\n",
        "            # print(\"cov mat \",self.cov_mat[k])\n",
        "            self.cov_mat[k] = (1/self.Nk[k])*(X_k_centered.T.dot(X_k_centered))\n",
        "        # print(self.Nk)\n",
        "        self.pi_prob = self.Nk/N\n",
        "        print(\"EM Begins\")\n",
        "        itr = 1\n",
        "        prev_log_likelihood = 0.0\n",
        "        \n",
        "        while True:\n",
        "            #####################################\n",
        "            ############   E Step   #############\n",
        "            #####################################\n",
        "            for k in range(self.num_of_clusters):\n",
        "                #self.gamma[i,k] = self.gaussian_prob(X[i], self.centroids[k], self.cov_mat[k])\n",
        "                self.cov_mat[k] += 1e-6*np.identity(d)\n",
        "                likelihood[:,k] =  multivariate_normal.pdf(X, self.centroids[k], self.cov_mat[k]).ravel()\n",
        "                # print(\"Done \", k)\n",
        "            # log_likelihood = np.sum(np.sum((likelihood*self.pi_prob), axis = 1))\n",
        "\n",
        "            # for i in range(N):\n",
        "            #     print(\"Done \",i)\n",
        "             \n",
        "            self.gamma = likelihood*self.pi_prob\n",
        "            self.gamma = self.gamma/(np.sum(self.gamma, axis = 1)[:,None])\n",
        "            # print(\"E done\")\n",
        "\n",
        "            #####################################\n",
        "            ############   M Step   #############\n",
        "            #####################################\n",
        "            self.Nk = np.sum(self.gamma, axis = 0)\n",
        "            self.pi_prob = self.Nk/N\n",
        "            for k in range(self.num_of_clusters):\n",
        "                self.centroids[k] = (1/self.Nk[k])*np.sum((X*self.gamma[:,k][:,np.newaxis]), axis = 0)\n",
        "                X_centered = X - self.centroids[k]\n",
        "                self.cov_mat[k] = (1/self.Nk[k])*((X_centered*self.gamma[:,k][:,np.newaxis]).T.dot(X_centered))\n",
        "            # print(\"M done\")\n",
        "\n",
        "            #####################################\n",
        "            ########   Log Likelihood   #########\n",
        "            #####################################\n",
        "            new_log_likelihood = np.sum(np.log(np.sum((likelihood*self.pi_prob), axis = 1)))\n",
        "            self.log_likelihood.append(new_log_likelihood)\n",
        "            diff_LL = np.abs(new_log_likelihood-prev_log_likelihood)\n",
        "            self.LL_diff.append(diff_LL)\n",
        "            print(\"Itr = \", itr, \" Current LL is - \",new_log_likelihood)\n",
        "            print(\"Change In LL is - \",diff_LL)\n",
        "            if(diff_LL<100 or itr>=10):\n",
        "                print(\"EM Finished at iteration - \", itr)\n",
        "                break\n",
        "            itr += 1\n",
        "            prev_log_likelihood = new_log_likelihood"
      ],
      "execution_count": 24,
      "outputs": []
    },
    {
      "cell_type": "code",
      "metadata": {
        "id": "T0j7BniJyGT-"
      },
      "source": [
        "# ug = GMM(num_of_clusters)\n",
        "# ug.k_means(mfcc_feat)\n",
        "# ug.EM_GMM(mfcc_feat)"
      ],
      "execution_count": 25,
      "outputs": []
    },
    {
      "cell_type": "code",
      "metadata": {
        "id": "ihYpZGpIY5WX"
      },
      "source": [
        "def fitUnimodal(C):\n",
        "  means = []\n",
        "  covMatrices = []\n",
        "  for c in C:\n",
        "    means.append(np.mean(c, axis = 0))\n",
        "    covMatrices.append(np.cov(c.T))\n",
        "  return means, covMatrices"
      ],
      "execution_count": 26,
      "outputs": []
    },
    {
      "cell_type": "code",
      "metadata": {
        "id": "O54Lqzff0zce"
      },
      "source": [
        "def calc_prob(x, GaussianMeans, GaussianCovMatrices):\n",
        "  p = 0.0\n",
        "  D = x.shape[0]\n",
        "  numOfClusters = len(GaussianMeans)\n",
        "  for i in range(D):\n",
        "    s = x[i]\n",
        "    for k in range(numOfClusters):\n",
        "    #self.gamma[i,k] = self.gaussian_prob(X[i], self.centroids[k], self.cov_mat[k])\n",
        "      cov_matrix = 1e-6*np.identity(d) + GaussianCovMatrices[k]\n",
        "      # cov_matrix = \n",
        "      p =  p + ug.pi_prob[k]*multivariate_normal.pdf(s, ug.centroids[k], cov_matrix)\n",
        "  p = p/D\n",
        "  return p"
      ],
      "execution_count": 27,
      "outputs": []
    },
    {
      "cell_type": "code",
      "metadata": {
        "id": "6Y7msXyWJkMH"
      },
      "source": [
        "def calcYgivenX(x, GaussianMeans, GaussianCovMatrices, i):\n",
        "  p = 0.0\n",
        "  numOfClusters = len(GaussianMeans)\n",
        "  w = 1.0/numOfClusters\n",
        "  D = x.shape[0]\n",
        "  probMat = np.zeros((D, num_of_clusters), dtype = float)\n",
        "  for i in range(num_of_clusters):\n",
        "    probMat[:,i] = multivariate_normal(x, GaussianMeans[i], GaussianCovMatrices[i])\n",
        "  p = 0.0\n",
        "  self.gamma = self.gamma/(np.sum(self.gamma, axis = 1)[:,None]) \n",
        "  return p"
      ],
      "execution_count": 28,
      "outputs": []
    },
    {
      "cell_type": "code",
      "metadata": {
        "id": "wUZLV2W5RKZo"
      },
      "source": [
        "########################\n",
        "##### IB Algorithm #####\n",
        "########################\n",
        "\n",
        "#Init Variables\n",
        "N = num_of_clusters\n",
        "C = np.array_split(mfcc_feat, num_of_clusters)\n",
        "GaussianMeans, GaussianCovMatrices = fitUnimodal(C)\n",
        "ClusterMapping = dict(zip(range(num_of_clusters), [[i] for i in range(num_of_clusters)]))\n"
      ],
      "execution_count": 29,
      "outputs": []
    },
    {
      "cell_type": "code",
      "metadata": {
        "id": "0zDI3qIlQHei"
      },
      "source": [
        "probC = []\n",
        "for i in range(N):\n",
        "  p = 0.0\n",
        "  D = C[i].shape[0]\n",
        "  for j in range(D):\n",
        "    s = C[i][j]\n",
        "    p += multivariate_normal.pdf(s, GaussianMeans[i], GaussianCovMatrices[i])\n",
        "  p = p/D \n",
        "  probC.append(p)"
      ],
      "execution_count": 30,
      "outputs": []
    },
    {
      "cell_type": "code",
      "metadata": {
        "id": "FQejbER_OfF9"
      },
      "source": [
        "probC = (1.0/N)*np.ones(N)\n",
        "probX = probC.copy()"
      ],
      "execution_count": 31,
      "outputs": []
    },
    {
      "cell_type": "code",
      "metadata": {
        "id": "eEXmU6gIw2jV"
      },
      "source": [
        "beta = 10.0"
      ],
      "execution_count": 39,
      "outputs": []
    },
    {
      "cell_type": "code",
      "metadata": {
        "id": "tfyeSjbwyHgY"
      },
      "source": [
        "probYgivenC = []\n",
        "probCgivenX = []\n",
        "for i in range(N):\n",
        "  temp1 = []\n",
        "  temp2 = []\n",
        "  x = C[i]\n",
        "  w = 1.0/num_of_clusters\n",
        "  D = x.shape[0]\n",
        "  probMat = np.zeros((D, num_of_clusters), dtype = float)\n",
        "  for j in range(num_of_clusters):\n",
        "    probMat[:,j] = multivariate_normal.pdf(x, GaussianMeans[j], GaussianCovMatrices[j]).ravel()\n",
        "  probMat = probMat/(np.sum(probMat, axis = 1)[:,None])\n",
        "  temp1 = np.mean(probMat, axis = 0)\n",
        "  for j in range(N):\n",
        "    # p = probMat[i,j]/(np.sum(probMat[i,j], axis = 1)[:,None])\n",
        "    # p = calcYgivenX(x, GaussianMeans, GaussianCovMatrices, i)\n",
        "    # temp1.append(p)\n",
        "    if j == i:\n",
        "      temp2.append(1.0)\n",
        "    else:\n",
        "      temp2.append(0.0)\n",
        "    # print(\"Done2 \",j)\n",
        "  probYgivenC.append(temp1)\n",
        "  probCgivenX.append(temp2)\n",
        "  if i%100 == 0:\n",
        "    print(\"Done \",i)\n",
        "\n",
        "# # prob_cond_y_c = np.zeros((N, N), dtype = float)\n",
        "# # prob_cond_c_x = np.zeros((N, N), dtype = float)\n",
        "# del_F = np.zeros((N, N), dtype = float)\n",
        "# for i in range(N):\n",
        "#   prob_c(i) = calc_prob(C[i], ug)\n",
        "#   for j in range(N):\n",
        "#     prob_cond_y_c[j][i] = calc_cond_prob(j, C[i], ug)\n",
        "#     if(j == i):\n",
        "#       prob_cond_c_x[j][i] = 1\n",
        "\n",
        "\n",
        "\n",
        "#Main Algo\n"
      ],
      "execution_count": null,
      "outputs": []
    },
    {
      "cell_type": "code",
      "metadata": {
        "id": "fy1GaieALLwB"
      },
      "source": [
        "del_F = np.zeros((N, N), dtype = float)\n",
        "del_F[:,:] = np.inf\n",
        "probXgivenC = ((np.array(probCgivenX)*np.array(probX)).T/probC).T\n",
        "for i in range(N):\n",
        "  for j in range(i+1, N): \n",
        "    temp1 = distance.jensenshannon(np.array(probYgivenC)[:,i], np.array(probYgivenC)[:,j]) \n",
        "    temp2 = distance.jensenshannon(probXgivenC[i], probXgivenC[j]) \n",
        "    dij = temp1 - (1/beta)*temp2\n",
        "    del_F[i][j] = (probC[i] + probC[j])*dij\n",
        "    # del_F[i][j] = cal_objective_diff(C[i], C[j])\n",
        "  if i%100 == 0:\n",
        "    print(\"Done \",i)"
      ],
      "execution_count": null,
      "outputs": []
    },
    {
      "cell_type": "code",
      "metadata": {
        "id": "yDS5A-pRVE_L"
      },
      "source": [
        "!cp  /content/drive/My\\ Drive/IB_Diarization/*.sav /content/\n",
        "# !cp /content/*.sav  /content/drive/My\\ Drive/IB_Diarization/"
      ],
      "execution_count": 32,
      "outputs": []
    },
    {
      "cell_type": "code",
      "metadata": {
        "id": "3UBnkJ0-Bgl5"
      },
      "source": [
        "import pickle\n",
        "file_name = \"probYgivenC.sav\"\n",
        "pickle.dump(probYgivenC, open(file_name, 'wb'))\n",
        "file_name = \"probCgivenX.sav\"\n",
        "pickle.dump(probCgivenX, open(file_name, 'wb'))\n",
        "file_name = \"del_F.sav\"\n",
        "pickle.dump(del_F, open(file_name, 'wb'))"
      ],
      "execution_count": null,
      "outputs": []
    },
    {
      "cell_type": "code",
      "metadata": {
        "id": "lAcZYLCvL-By"
      },
      "source": [
        "import pickle\n",
        "\n",
        "file_name = \"probYgivenC.sav\"\n",
        "probYgivenC = pickle.load(open(file_name, 'rb'))\n",
        "file_name = \"probCgivenX.sav\"\n",
        "# pickle.dump(probCgivenY, open(file_name, 'wb'))\n",
        "probCgivenX = pickle.load(open(file_name, 'rb'))\n",
        "file_name = \"del_F.sav\"\n",
        "del_F = pickle.load(open(file_name, 'rb'))"
      ],
      "execution_count": 34,
      "outputs": []
    },
    {
      "cell_type": "code",
      "metadata": {
        "id": "UWu50k8pX0bb",
        "outputId": "7a1ee854-1c4c-4776-fd75-dbb67f22dfa9",
        "colab": {
          "base_uri": "https://localhost:8080/",
          "height": 36
        }
      },
      "source": [
        "multivariate_normal.pdf(C[0][0], GaussianMeans[0], GaussianCovMatrices[0])"
      ],
      "execution_count": 35,
      "outputs": [
        {
          "output_type": "execute_result",
          "data": {
            "text/plain": [
              "4.821832164906279e-30"
            ]
          },
          "metadata": {
            "tags": []
          },
          "execution_count": 35
        }
      ]
    },
    {
      "cell_type": "code",
      "metadata": {
        "id": "Uqki82tSBf0k",
        "outputId": "4de2be07-7f53-4eaa-d223-3a144ce099df",
        "colab": {
          "base_uri": "https://localhost:8080/",
          "height": 166
        }
      },
      "source": [
        "#IB ALgo\n",
        "N = num_of_clusters\n",
        "# print(\"Yaha\")\n",
        "while num_of_clusters>4:\n",
        "  # print(\"Here\")\n",
        "  # i, j = np.argwhere(del_F == np.min(del_F)).ravel()\n",
        "  mIdx = np.argmin(del_F)\n",
        "  i = mIdx//N\n",
        "  j = mIdx%N\n",
        "  probCr = probC[i] + probC[j]\n",
        "  del_F[:,j] = np.inf\n",
        "  del_F[j,:] = np.inf\n",
        "  # probC.pop(j)\n",
        "  ClusterMapping[i] += ClusterMapping[j]\n",
        "  ClusterMapping[j] = []\n",
        "  probYgivenC[i] = (probYgivenC[i]*probC[i] + probYgivenC[j]*probC[j])/probCr\n",
        "  probC[i] = probCr\n",
        "  probCgivenX[i] = [0 for idx in probCgivenX[i]]\n",
        "  for idx in ClusterMapping[i]:\n",
        "    probCgivenX[i][idx] = 1\n",
        "  probXgivenC = ((np.array(probCgivenX)*np.array(probX)).T/probC).T\n",
        "  for idx in range(0, i):\n",
        "    if del_F[idx,i] == np.inf:\n",
        "      continue\n",
        "    temp1 = distance.jensenshannon(np.array(probYgivenC)[:,idx], np.array(probYgivenC)[:,i]) \n",
        "    temp2 = distance.jensenshannon(probXgivenC[idx], probXgivenC[i]) \n",
        "    dij = temp1 - (1/beta)*temp2\n",
        "    del_F[idx][i] = (probC[idx] + probC[i])*dij\n",
        "  for idx in range(i+1, N):\n",
        "    if del_F[i, idx] == np.inf:\n",
        "      continue \n",
        "    temp1 = distance.jensenshannon(np.array(probYgivenC)[:,i], np.array(probYgivenC)[:,idx]) \n",
        "    temp2 = distance.jensenshannon(probXgivenC[i], probXgivenC[idx]) \n",
        "    dij = temp1 - (1/beta)*temp2\n",
        "    del_F[i][idx] = (probC[i] + probC[idx])*dij\n",
        "  num_of_clusters = num_of_clusters-1\n",
        "  if num_of_clusters%100 == 0:\n",
        "    print(\"Clusters Rem: \", num_of_clusters)\n"
      ],
      "execution_count": 40,
      "outputs": [
        {
          "output_type": "stream",
          "text": [
            "Clusters Rem:  800\n",
            "Clusters Rem:  700\n",
            "Clusters Rem:  600\n",
            "Clusters Rem:  500\n",
            "Clusters Rem:  400\n",
            "Clusters Rem:  300\n",
            "Clusters Rem:  200\n",
            "Clusters Rem:  100\n"
          ],
          "name": "stdout"
        }
      ]
    },
    {
      "cell_type": "code",
      "metadata": {
        "id": "WDGYDOCXX1tQ",
        "outputId": "92ba5e91-d4cb-40be-a1f5-a1f393809c66",
        "colab": {
          "base_uri": "https://localhost:8080/",
          "height": 212
        }
      },
      "source": [
        "file_name = \"ClusterMapping.sav\"\n",
        "import pickle\n",
        "pickle.dump(ClusterMapping, open(file_name, 'wb'))"
      ],
      "execution_count": 8,
      "outputs": [
        {
          "output_type": "error",
          "ename": "NameError",
          "evalue": "ignored",
          "traceback": [
            "\u001b[0;31m---------------------------------------------------------------------------\u001b[0m",
            "\u001b[0;31mNameError\u001b[0m                                 Traceback (most recent call last)",
            "\u001b[0;32m<ipython-input-8-5e88c8562a93>\u001b[0m in \u001b[0;36m<module>\u001b[0;34m()\u001b[0m\n\u001b[1;32m      1\u001b[0m \u001b[0mfile_name\u001b[0m \u001b[0;34m=\u001b[0m \u001b[0;34m\"ClusterMapping.sav\"\u001b[0m\u001b[0;34m\u001b[0m\u001b[0;34m\u001b[0m\u001b[0m\n\u001b[1;32m      2\u001b[0m \u001b[0;32mimport\u001b[0m \u001b[0mpickle\u001b[0m\u001b[0;34m\u001b[0m\u001b[0;34m\u001b[0m\u001b[0m\n\u001b[0;32m----> 3\u001b[0;31m \u001b[0mpickle\u001b[0m\u001b[0;34m.\u001b[0m\u001b[0mdump\u001b[0m\u001b[0;34m(\u001b[0m\u001b[0mClusterMapping\u001b[0m\u001b[0;34m,\u001b[0m \u001b[0mopen\u001b[0m\u001b[0;34m(\u001b[0m\u001b[0mfile_name\u001b[0m\u001b[0;34m,\u001b[0m \u001b[0;34m'wb'\u001b[0m\u001b[0;34m)\u001b[0m\u001b[0;34m)\u001b[0m\u001b[0;34m\u001b[0m\u001b[0;34m\u001b[0m\u001b[0m\n\u001b[0m",
            "\u001b[0;31mNameError\u001b[0m: name 'ClusterMapping' is not defined"
          ]
        }
      ]
    },
    {
      "cell_type": "code",
      "metadata": {
        "id": "6sD-fuPWvVn6"
      },
      "source": [
        "!cp /content/*.sav  /content/drive/My\\ Drive/IB_Diarization/\n"
      ],
      "execution_count": 9,
      "outputs": []
    },
    {
      "cell_type": "code",
      "metadata": {
        "id": "YRS1Fh6o8w-l",
        "outputId": "5b7ad89f-9d86-4c7e-e0c8-f9d80fae3a7d",
        "colab": {
          "base_uri": "https://localhost:8080/",
          "height": 249
        }
      },
      "source": [
        "# Start Prob [1,0,0,0] or [0.25]*4\n",
        "#transistion prob [0.25]\n",
        "from hmmlearn import hmm\n",
        "\n",
        "clstrs = []\n",
        "for i in range(N):\n",
        "  if len(ClusterMapping[i]) !=0:\n",
        "    clstrs.append(ClusterMapping[i]);\n",
        "\n",
        "clstr_seq = np.ones((N,))*-1\n",
        "# --------------------------------------------------------------------------\n",
        "start_prob=np.ones((4,))/4.0\n",
        "# --------------------------------------------------------------------------\n",
        "id = 0;\n",
        "max_clstr = 0\n",
        "for clstr in clstrs:\n",
        "  id+=1\n",
        "  if len(clstr)>max_clstr:\n",
        "    max_clstr = len(clstr)\n",
        "hmm_wts = np.zeros((4,max_clstr)).astype('float')\n",
        "hmm_means = np.zeros((4,max_clstr,mfcc_feat.shape[-1]))\n",
        "hmm_covar = np.zeros((4,max_clstr,mfcc_feat.shape[-1],mfcc_feat.shape[-1]))\n",
        "\n",
        "id=-1\n",
        "for clstr in clstrs:\n",
        "  id+=1\n",
        "  clstr_wt = 1.0/len(clstr)\n",
        "  inclstr_id=0\n",
        "  for seg in clstr:\n",
        "    clstr_seq[inclstr_id]=id\n",
        "    hmm_wts[id][inclstr_id]=clstr_wt\n",
        "    hmm_means[id][inclstr_id]=GaussianMeans[seg]\n",
        "    hmm_covar[id][inclstr_id]=GaussianCovMatrices[seg]\n",
        "    inclstr_id+=1\n",
        "\n",
        "trans_prob = np.zeros((4,4))\n",
        "# --------------------------------------------------------------------------\n",
        "clstr_seq = clstr_seq.astype(np.int)\n",
        "for i in range(1,N):\n",
        "  trans_prob[clstr_seq[i-1]][clstr_seq[i]]+=1\n",
        "trans_prob = np.divide(trans_prob.astype('float'),np.sum(trans_prob,axis=1))\n",
        "# --------------------------------------------------------------------------\n",
        "U_GMM_HMM =  hmm.GMMHMM(n_components =4,\n",
        "                        n_mix =max_clstr ,\n",
        "                        covariance_type = \"full\",\n",
        "                        startprob_prior = start_prob,\n",
        "                        transmat_prior  = trans_prob,\n",
        "                        weights_prior  =hmm_wts ,\n",
        "                        # means_weight  = hmm_means,\n",
        "                        # covars_weight  = hmm_covar,\n",
        "                        )\n",
        "print(\" Shape :  start_prob \",start_prob.shape)\n",
        "print(\" Shape :  trans_prob \",trans_prob.shape)\n",
        "print(\" Shape :  hmm_wts \",hmm_wts.shape)\n",
        "print(\" Shape :  hmm_means \",hmm_means.shape)\n",
        "print(\" Shape :  hmm_covar \",hmm_covar.shape)\n",
        "print(\" Shape :  mfcc_feat \",mfcc_feat.shape)\n",
        "aligned_lbls = U_GMM_HMM.fit(mfcc_feat[:8000])\n",
        "\n"
      ],
      "execution_count": 5,
      "outputs": [
        {
          "output_type": "error",
          "ename": "NameError",
          "evalue": "ignored",
          "traceback": [
            "\u001b[0;31m---------------------------------------------------------------------------\u001b[0m",
            "\u001b[0;31mNameError\u001b[0m                                 Traceback (most recent call last)",
            "\u001b[0;32m<ipython-input-5-a794c9303717>\u001b[0m in \u001b[0;36m<module>\u001b[0;34m()\u001b[0m\n\u001b[1;32m      4\u001b[0m \u001b[0;34m\u001b[0m\u001b[0m\n\u001b[1;32m      5\u001b[0m \u001b[0mclstrs\u001b[0m \u001b[0;34m=\u001b[0m \u001b[0;34m[\u001b[0m\u001b[0;34m]\u001b[0m\u001b[0;34m\u001b[0m\u001b[0;34m\u001b[0m\u001b[0m\n\u001b[0;32m----> 6\u001b[0;31m \u001b[0;32mfor\u001b[0m \u001b[0mi\u001b[0m \u001b[0;32min\u001b[0m \u001b[0mrange\u001b[0m\u001b[0;34m(\u001b[0m\u001b[0mN\u001b[0m\u001b[0;34m)\u001b[0m\u001b[0;34m:\u001b[0m\u001b[0;34m\u001b[0m\u001b[0;34m\u001b[0m\u001b[0m\n\u001b[0m\u001b[1;32m      7\u001b[0m   \u001b[0;32mif\u001b[0m \u001b[0mlen\u001b[0m\u001b[0;34m(\u001b[0m\u001b[0mClusterMapping\u001b[0m\u001b[0;34m[\u001b[0m\u001b[0mi\u001b[0m\u001b[0;34m]\u001b[0m\u001b[0;34m)\u001b[0m \u001b[0;34m!=\u001b[0m\u001b[0;36m0\u001b[0m\u001b[0;34m:\u001b[0m\u001b[0;34m\u001b[0m\u001b[0;34m\u001b[0m\u001b[0m\n\u001b[1;32m      8\u001b[0m     \u001b[0mclstrs\u001b[0m\u001b[0;34m.\u001b[0m\u001b[0mappend\u001b[0m\u001b[0;34m(\u001b[0m\u001b[0mClusterMapping\u001b[0m\u001b[0;34m[\u001b[0m\u001b[0mi\u001b[0m\u001b[0;34m]\u001b[0m\u001b[0;34m)\u001b[0m\u001b[0;34m;\u001b[0m\u001b[0;34m\u001b[0m\u001b[0;34m\u001b[0m\u001b[0m\n",
            "\u001b[0;31mNameError\u001b[0m: name 'N' is not defined"
          ]
        }
      ]
    },
    {
      "cell_type": "code",
      "metadata": {
        "id": "aSR5s72TX2u0"
      },
      "source": [
        "print(U_GMM_HMM.means_.shape) \n",
        "print(U_GMM_HMM.covars_.shape) "
      ],
      "execution_count": null,
      "outputs": []
    },
    {
      "cell_type": "code",
      "metadata": {
        "id": "Ts618y0lX5yO"
      },
      "source": [
        "p"
      ],
      "execution_count": null,
      "outputs": []
    },
    {
      "cell_type": "code",
      "metadata": {
        "id": "i63Ltu_sYS-d"
      },
      "source": [
        "p.insert(1, 13)"
      ],
      "execution_count": null,
      "outputs": []
    },
    {
      "cell_type": "code",
      "metadata": {
        "id": "dySuLF0rYj7z"
      },
      "source": [
        "d = dict(zip(range(10),[[i] for i in range(10)]))"
      ],
      "execution_count": null,
      "outputs": []
    },
    {
      "cell_type": "code",
      "metadata": {
        "id": "JQqH5QGnYkrf"
      },
      "source": [
        "d[0].append(2)"
      ],
      "execution_count": null,
      "outputs": []
    },
    {
      "cell_type": "code",
      "metadata": {
        "id": "IYqg3drNaCZA"
      },
      "source": [
        "d"
      ],
      "execution_count": null,
      "outputs": []
    },
    {
      "cell_type": "code",
      "metadata": {
        "id": "qoB9F6qOaM49"
      },
      "source": [
        "from scipy.stats import norm"
      ],
      "execution_count": null,
      "outputs": []
    },
    {
      "cell_type": "code",
      "metadata": {
        "id": "AfO6w38_ejRu",
        "outputId": "505d8f18-593d-4e87-abd7-da650ff56657",
        "colab": {
          "base_uri": "https://localhost:8080/",
          "height": 303
        }
      },
      "source": [
        "m,c = norm.fit(mfcc_feat[0:100],d=19)"
      ],
      "execution_count": null,
      "outputs": [
        {
          "output_type": "error",
          "ename": "TypeError",
          "evalue": "ignored",
          "traceback": [
            "\u001b[0;31m---------------------------------------------------------------------------\u001b[0m",
            "\u001b[0;31mTypeError\u001b[0m                                 Traceback (most recent call last)",
            "\u001b[0;32m<ipython-input-58-f88d49c2ed43>\u001b[0m in \u001b[0;36m<module>\u001b[0;34m()\u001b[0m\n\u001b[0;32m----> 1\u001b[0;31m \u001b[0mm\u001b[0m\u001b[0;34m,\u001b[0m\u001b[0mc\u001b[0m \u001b[0;34m=\u001b[0m \u001b[0mnorm\u001b[0m\u001b[0;34m.\u001b[0m\u001b[0mfit\u001b[0m\u001b[0;34m(\u001b[0m\u001b[0mmfcc_feat\u001b[0m\u001b[0;34m[\u001b[0m\u001b[0;36m0\u001b[0m\u001b[0;34m:\u001b[0m\u001b[0;36m100\u001b[0m\u001b[0;34m]\u001b[0m\u001b[0;34m,\u001b[0m\u001b[0md\u001b[0m\u001b[0;34m=\u001b[0m\u001b[0;36m19\u001b[0m\u001b[0;34m)\u001b[0m\u001b[0;34m\u001b[0m\u001b[0;34m\u001b[0m\u001b[0m\n\u001b[0m",
            "\u001b[0;32m/usr/local/lib/python3.6/dist-packages/scipy/stats/_continuous_distns.py\u001b[0m in \u001b[0;36mfit\u001b[0;34m(self, data, **kwds)\u001b[0m\n\u001b[1;32m    274\u001b[0m         \u001b[0mfscale\u001b[0m \u001b[0;34m=\u001b[0m \u001b[0mkwds\u001b[0m\u001b[0;34m.\u001b[0m\u001b[0mpop\u001b[0m\u001b[0;34m(\u001b[0m\u001b[0;34m'fscale'\u001b[0m\u001b[0;34m,\u001b[0m \u001b[0;32mNone\u001b[0m\u001b[0;34m)\u001b[0m\u001b[0;34m\u001b[0m\u001b[0;34m\u001b[0m\u001b[0m\n\u001b[1;32m    275\u001b[0m \u001b[0;34m\u001b[0m\u001b[0m\n\u001b[0;32m--> 276\u001b[0;31m         \u001b[0m_remove_optimizer_parameters\u001b[0m\u001b[0;34m(\u001b[0m\u001b[0mkwds\u001b[0m\u001b[0;34m)\u001b[0m\u001b[0;34m\u001b[0m\u001b[0;34m\u001b[0m\u001b[0m\n\u001b[0m\u001b[1;32m    277\u001b[0m \u001b[0;34m\u001b[0m\u001b[0m\n\u001b[1;32m    278\u001b[0m         \u001b[0;32mif\u001b[0m \u001b[0mfloc\u001b[0m \u001b[0;32mis\u001b[0m \u001b[0;32mnot\u001b[0m \u001b[0;32mNone\u001b[0m \u001b[0;32mand\u001b[0m \u001b[0mfscale\u001b[0m \u001b[0;32mis\u001b[0m \u001b[0;32mnot\u001b[0m \u001b[0;32mNone\u001b[0m\u001b[0;34m:\u001b[0m\u001b[0;34m\u001b[0m\u001b[0;34m\u001b[0m\u001b[0m\n",
            "\u001b[0;32m/usr/local/lib/python3.6/dist-packages/scipy/stats/_continuous_distns.py\u001b[0m in \u001b[0;36m_remove_optimizer_parameters\u001b[0;34m(kwds)\u001b[0m\n\u001b[1;32m     52\u001b[0m     \u001b[0mkwds\u001b[0m\u001b[0;34m.\u001b[0m\u001b[0mpop\u001b[0m\u001b[0;34m(\u001b[0m\u001b[0;34m'optimizer'\u001b[0m\u001b[0;34m,\u001b[0m \u001b[0;32mNone\u001b[0m\u001b[0;34m)\u001b[0m\u001b[0;34m\u001b[0m\u001b[0;34m\u001b[0m\u001b[0m\n\u001b[1;32m     53\u001b[0m     \u001b[0;32mif\u001b[0m \u001b[0mkwds\u001b[0m\u001b[0;34m:\u001b[0m\u001b[0;34m\u001b[0m\u001b[0;34m\u001b[0m\u001b[0m\n\u001b[0;32m---> 54\u001b[0;31m         \u001b[0;32mraise\u001b[0m \u001b[0mTypeError\u001b[0m\u001b[0;34m(\u001b[0m\u001b[0;34m\"Unknown arguments: %s.\"\u001b[0m \u001b[0;34m%\u001b[0m \u001b[0mkwds\u001b[0m\u001b[0;34m)\u001b[0m\u001b[0;34m\u001b[0m\u001b[0;34m\u001b[0m\u001b[0m\n\u001b[0m\u001b[1;32m     55\u001b[0m \u001b[0;34m\u001b[0m\u001b[0m\n\u001b[1;32m     56\u001b[0m \u001b[0;34m\u001b[0m\u001b[0m\n",
            "\u001b[0;31mTypeError\u001b[0m: Unknown arguments: {'d': 19}."
          ]
        }
      ]
    },
    {
      "cell_type": "code",
      "metadata": {
        "id": "eWXWVGYMek4I"
      },
      "source": [
        "data = norm.rvs(loc=0,scale=2,size=10, )"
      ],
      "execution_count": null,
      "outputs": []
    },
    {
      "cell_type": "code",
      "metadata": {
        "id": "Q9U34Y1Oev_N",
        "outputId": "c5ad572d-c11d-4b53-b1c2-17f82d02473b",
        "colab": {
          "base_uri": "https://localhost:8080/",
          "height": 34
        }
      },
      "source": [
        "c.shape"
      ],
      "execution_count": null,
      "outputs": [
        {
          "output_type": "execute_result",
          "data": {
            "text/plain": [
              "()"
            ]
          },
          "metadata": {
            "tags": []
          },
          "execution_count": 46
        }
      ]
    },
    {
      "cell_type": "code",
      "metadata": {
        "id": "ifcW5chPexmQ",
        "outputId": "36329120-79db-44f0-ef54-725bc701cc39",
        "colab": {
          "base_uri": "https://localhost:8080/",
          "height": 34
        }
      },
      "source": [
        "mfcc_feat[0:100].shape"
      ],
      "execution_count": null,
      "outputs": [
        {
          "output_type": "execute_result",
          "data": {
            "text/plain": [
              "(100, 19)"
            ]
          },
          "metadata": {
            "tags": []
          },
          "execution_count": 47
        }
      ]
    },
    {
      "cell_type": "code",
      "metadata": {
        "id": "Pfc3qtegfQOX"
      },
      "source": [
        "m = np.mean(mfcc_feat[0:100], axis = 0)"
      ],
      "execution_count": null,
      "outputs": []
    },
    {
      "cell_type": "code",
      "metadata": {
        "id": "mNC7qDvkfS4H"
      },
      "source": [
        "c = np.cov(mfcc_feat[0:100].T)"
      ],
      "execution_count": null,
      "outputs": []
    },
    {
      "cell_type": "code",
      "metadata": {
        "id": "xvdwNlt7g8BZ",
        "outputId": "fe85bb38-0e12-4f39-c327-598da1ab484b",
        "colab": {
          "base_uri": "https://localhost:8080/",
          "height": 34
        }
      },
      "source": [
        "m.shape"
      ],
      "execution_count": null,
      "outputs": [
        {
          "output_type": "execute_result",
          "data": {
            "text/plain": [
              "(19,)"
            ]
          },
          "metadata": {
            "tags": []
          },
          "execution_count": 107
        }
      ]
    },
    {
      "cell_type": "code",
      "metadata": {
        "id": "1Mu4QPnphscO",
        "outputId": "7ecca6a5-aa41-4c64-9321-2c352032ed71",
        "colab": {
          "base_uri": "https://localhost:8080/",
          "height": 34
        }
      },
      "source": [
        "a = 1\n",
        "a +=2\n",
        "a"
      ],
      "execution_count": null,
      "outputs": [
        {
          "output_type": "execute_result",
          "data": {
            "text/plain": [
              "3"
            ]
          },
          "metadata": {
            "tags": []
          },
          "execution_count": 80
        }
      ]
    },
    {
      "cell_type": "code",
      "metadata": {
        "id": "BbPJg1nKAfW9"
      },
      "source": [
        "a = [[-10,-3,4], [4,-104,-500]]"
      ],
      "execution_count": null,
      "outputs": []
    },
    {
      "cell_type": "code",
      "metadata": {
        "id": "QB7labgaKHKZ"
      },
      "source": [
        "i, j = np.argwhere(a == np.min(a)).ravel()"
      ],
      "execution_count": null,
      "outputs": []
    },
    {
      "cell_type": "code",
      "metadata": {
        "id": "rIUkeqDCSAwZ"
      },
      "source": [
        "a = [1,2,3] + [3,4,5]"
      ],
      "execution_count": null,
      "outputs": []
    },
    {
      "cell_type": "code",
      "metadata": {
        "id": "hEBNetzTZscl"
      },
      "source": [
        "a[0] = [9 for i in a[0]]"
      ],
      "execution_count": null,
      "outputs": []
    },
    {
      "cell_type": "code",
      "metadata": {
        "id": "i4GEiihwadYA",
        "outputId": "07895ee0-102e-403b-89c2-093f60089957",
        "colab": {
          "base_uri": "https://localhost:8080/",
          "height": 34
        }
      },
      "source": [
        "a"
      ],
      "execution_count": null,
      "outputs": [
        {
          "output_type": "execute_result",
          "data": {
            "text/plain": [
              "[[9, 9, 9], [4, -104, -500]]"
            ]
          },
          "metadata": {
            "tags": []
          },
          "execution_count": 188
        }
      ]
    },
    {
      "cell_type": "code",
      "metadata": {
        "id": "C5aXQx8OfGAI",
        "outputId": "f35e680e-2e97-4129-d8e2-aeaeb3a0cc9b",
        "colab": {
          "base_uri": "https://localhost:8080/",
          "height": 316
        }
      },
      "source": [
        "import hmmlearn"
      ],
      "execution_count": null,
      "outputs": [
        {
          "output_type": "error",
          "ename": "ModuleNotFoundError",
          "evalue": "ignored",
          "traceback": [
            "\u001b[0;31m---------------------------------------------------------------------------\u001b[0m",
            "\u001b[0;31mModuleNotFoundError\u001b[0m                       Traceback (most recent call last)",
            "\u001b[0;32m<ipython-input-6-036832e0c673>\u001b[0m in \u001b[0;36m<module>\u001b[0;34m()\u001b[0m\n\u001b[0;32m----> 1\u001b[0;31m \u001b[0;32mimport\u001b[0m \u001b[0mhmmlearn\u001b[0m\u001b[0;34m\u001b[0m\u001b[0;34m\u001b[0m\u001b[0m\n\u001b[0m",
            "\u001b[0;31mModuleNotFoundError\u001b[0m: No module named 'hmmlearn'",
            "",
            "\u001b[0;31m---------------------------------------------------------------------------\u001b[0;32m\nNOTE: If your import is failing due to a missing package, you can\nmanually install dependencies using either !pip or !apt.\n\nTo view examples of installing some common dependencies, click the\n\"Open Examples\" button below.\n\u001b[0;31m---------------------------------------------------------------------------\u001b[0m\n"
          ]
        }
      ]
    },
    {
      "cell_type": "code",
      "metadata": {
        "id": "deGGkkZOp7Wx"
      },
      "source": [
        "!cp  /content/drive/My\\ Drive/IB_Diarization/amicorpus/ami_public_manual_1.6.2.zip /content/"
      ],
      "execution_count": 48,
      "outputs": []
    },
    {
      "cell_type": "code",
      "metadata": {
        "id": "eLmtU8On9EdS"
      },
      "source": [
        "import xml.etree.ElementTree as ET\n",
        "import numpy as np\n",
        "ns = {'nite':\"http://nite.sourceforge.net/\", 'id':\"EN2001a.A.segs\"}\n",
        "alls = ['A','B','C','D']\n",
        "Vec = np.zeros((3000000,))\n",
        "def main():\n",
        "\td=0\n",
        "\tfor i in alls:\n",
        "\t\tparse(i,d+1)\n",
        "\t\td+=1\n",
        "\tnp.save('Vec.npy',Vec)\n",
        "\n",
        "def parse(S,i):\t\n",
        "\ttree = ET.parse('./Data/EN2002b.'+S+'.segments.xml')\n",
        "\troot = tree.getroot()\n",
        "\tfor seg in root.findall('segment'):\n",
        "\t\tst = seg.get('transcriber_start')\n",
        "\t\tend = seg.get('transcriber_end')\n",
        "\t\tst = int(float(st)*100)\n",
        "\t\tend = int(float(end)*100)\n",
        "\t\tfor k in range(st,end):\n",
        "\t\t\tVec[k]=i\n",
        "if __name__ == '__main__':\n",
        "\tmain()\n",
        "\tprint(Vec[5000:10000],Vec.shape)"
      ],
      "execution_count": null,
      "outputs": []
    }
  ]
}