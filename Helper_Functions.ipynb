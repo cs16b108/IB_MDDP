{
  "nbformat": 4,
  "nbformat_minor": 0,
  "metadata": {
    "colab": {
      "name": "Helper Functions.ipynb",
      "provenance": [],
      "mount_file_id": "1b--HttDv3kvox1NIfNnmjXO6hoI1R39h",
      "authorship_tag": "ABX9TyNSN6jUeVKtJlveeg0wDQOv",
      "include_colab_link": true
    },
    "kernelspec": {
      "name": "python3",
      "display_name": "Python 3"
    }
  },
  "cells": [
    {
      "cell_type": "markdown",
      "metadata": {
        "id": "view-in-github",
        "colab_type": "text"
      },
      "source": [
        "<a href=\"https://colab.research.google.com/github/cs16b108/IB_MDDP/blob/master/Helper_Functions.ipynb\" target=\"_parent\"><img src=\"https://colab.research.google.com/assets/colab-badge.svg\" alt=\"Open In Colab\"/></a>"
      ]
    },
    {
      "cell_type": "code",
      "metadata": {
        "id": "IrUw1fdnbV0r"
      },
      "source": [
        "import os\r\n",
        "from os.path import isfile, isdir, join\r\n",
        "from pathlib import Path\r\n",
        "from sklearn import mixture\r\n",
        "import math\r\n",
        "import numpy as np\r\n",
        "import random\r\n",
        "from scipy.spatial import distance\r\n",
        "import scipy.io.wavfile as wav\r\n",
        "import pickle\r\n",
        "import time\r\n",
        "import copy"
      ],
      "execution_count": 2,
      "outputs": []
    },
    {
      "cell_type": "code",
      "metadata": {
        "id": "RTF3UKSEcAgu"
      },
      "source": [
        "#Give complete path of vuv_frame.npy\r\n",
        "#File name and directory path\r\n",
        "fileName = 'ES2002c'\r\n",
        "drivePath = '/content/drive/My Drive/IB_Diarization/'\r\n",
        "vuv_frames = np.load(join(drivePath,'save_files', fileName+'_vuv.npy'))"
      ],
      "execution_count": 4,
      "outputs": []
    },
    {
      "cell_type": "code",
      "metadata": {
        "id": "NRQSPXPbbfH6"
      },
      "source": [
        "################################################\r\n",
        "#### Generate Segment file (.scp) for IDIAP ####\r\n",
        "################################################\r\n",
        "fobj = open(fileName+'.scp', 'a')\r\n",
        "L = len(vuv_frames)\r\n",
        "i = 0\r\n",
        "while i<L:\r\n",
        "  if vuv_frames[i] == 1:\r\n",
        "    j = i\r\n",
        "    cnt = 1\r\n",
        "    while j+1<L and vuv_frames[j+1] == 1:\r\n",
        "      cnt += 1\r\n",
        "      j += 1\r\n",
        "    curLine = fileName+'_'+str(i*3)+'_'+str(j*3)+'='+fileName+'.fea['+str(i*3)+','+str(j*3)+']\\n'\r\n",
        "    f.writelines(curLine)\r\n",
        "    i = j\r\n",
        "  i += 1\r\n",
        "fobj.close()"
      ],
      "execution_count": null,
      "outputs": []
    },
    {
      "cell_type": "code",
      "metadata": {
        "colab": {
          "base_uri": "https://localhost:8080/"
        },
        "id": "XZ50RN5qc0C8",
        "outputId": "df506060-3bb2-4609-d190-2447a08c0966"
      },
      "source": [
        "###############################################\r\n",
        "#### Generate rttm from amicorpus segments ####\r\n",
        "###############################################\r\n",
        "import xml.etree.ElementTree as ET\r\n",
        "import numpy as np\r\n",
        "ns = {'nite':\"http://nite.sourceforge.net/\", 'id':fileName+\".A.segs\"}\r\n",
        "alls = ['A','B','C','D']\r\n",
        "Vec = np.zeros((3000000,))\r\n",
        "diarizeReference = []\r\n",
        "\r\n",
        "def parse(S, diarizeReference, speaker_num):\t\r\n",
        "\ttree = ET.parse('/content/drive/My Drive/IB_Diarization/ami_public_manual_1.6.2/segments/'+fileName+'.'+S+'.segments.xml')\r\n",
        "\troot = tree.getroot()\r\n",
        "  \r\n",
        "\tfor seg in root.findall('segment'):\r\n",
        "\t\tst = seg.get('transcriber_start')\r\n",
        "\t\tend = seg.get('transcriber_end')\r\n",
        "\t\tdiarizeReference.append([float(st), float(end), 'speaker_'+str(int(speaker_num))])\r\n",
        "\t\t# lineStr = 'SPEAKER ' + 'meeting' + ' ' + channelId + ' ' + str(onset) + ' ' + str(duration) + ' <NA> <NA> ' \\\r\n",
        "    #                 + 'speaker_'+str(int(finalSegments[idx-1])) + ' <NA> <NA>\\n'\r\n",
        "    #   fileObj.writelines(lineStr)\r\n",
        "\treturn diarizeReference\r\n",
        "\r\n",
        "d=0\r\n",
        "for speaker_num, S in enumerate(alls):\r\n",
        "\tdiarizeReference = parse(S,diarizeReference, speaker_num)\r\n",
        "\td+=1\r\n",
        "diarizeReference.sort()\r\n",
        "print(diarizeReference)\r\n",
        "\r\n",
        "fileObj = open(fileName+'_actual.rttm', 'a')\r\n",
        "for d in diarizeReference:\r\n",
        "  lineStr = 'SPEAKER ' + 'meeting' + ' ' + '1' + ' ' + str(d[0]) + ' ' + str(d[1]-d[0]) + ' <NA> <NA> ' \\\r\n",
        "                    + d[2] + ' <NA> <NA>\\n'\r\n",
        "  fileObj.writelines(lineStr)\r\n",
        "fileObj.close()"
      ],
      "execution_count": 6,
      "outputs": [
        {
          "output_type": "stream",
          "text": [
            "[[0.0, 8.837, 'speaker_0'], [0.6, 0.956, 'speaker_3'], [4.135, 5.294, 'speaker_1'], [4.998, 15.166, 'speaker_3'], [6.312, 7.716, 'speaker_1'], [12.71, 13.268, 'speaker_0'], [12.993, 13.686, 'speaker_1'], [15.056, 20.64, 'speaker_1'], [16.262, 16.626, 'speaker_0'], [21.936, 28.944, 'speaker_1'], [28.864, 30.352, 'speaker_0'], [30.272, 57.772, 'speaker_1'], [32.4, 33.008, 'speaker_3'], [34.064, 34.84, 'speaker_3'], [57.772, 62.4, 'speaker_1'], [60.987, 61.765, 'speaker_0'], [63.024, 63.529, 'speaker_0'], [63.573, 65.456, 'speaker_3'], [63.84, 93.744, 'speaker_1'], [75.232, 75.913, 'speaker_3'], [77.069, 77.568, 'speaker_3'], [82.496, 83.952, 'speaker_3'], [84.261, 84.608, 'speaker_0'], [89.152, 90.836, 'speaker_3'], [91.552, 93.248, 'speaker_3'], [94.447, 94.785, 'speaker_3'], [98.64, 99.504, 'speaker_1'], [100.704, 102.176, 'speaker_1'], [107.789, 130.48, 'speaker_1'], [114.736, 115.221, 'speaker_0'], [125.392, 126.894, 'speaker_3'], [131.302, 132.864, 'speaker_3'], [134.256, 137.552, 'speaker_3'], [138.878, 139.552, 'speaker_1'], [140.816, 142.416, 'speaker_1'], [140.84, 141.508, 'speaker_3'], [142.672, 147.28, 'speaker_3'], [147.664, 148.416, 'speaker_1'], [148.544, 152.56, 'speaker_3'], [156.608, 160.496, 'speaker_3'], [161.616, 170.112, 'speaker_3'], [165.184, 166.864, 'speaker_1'], [179.392, 181.04, 'speaker_3'], [182.432, 198.53, 'speaker_3'], [183.92, 184.768, 'speaker_1'], [186.964, 187.939, 'speaker_1'], [198.53, 208.91, 'speaker_3'], [198.72, 199.168, 'speaker_1'], [208.91, 234.421, 'speaker_3'], [234.421, 260.801, 'speaker_3'], [235.329, 235.952, 'speaker_1'], [235.482, 235.939, 'speaker_0'], [239.888, 241.184, 'speaker_1'], [258.88, 259.392, 'speaker_1'], [260.801, 288.298, 'speaker_3'], [288.298, 297.872, 'speaker_3'], [298.866, 330.288, 'speaker_3'], [301.631, 303.408, 'speaker_1'], [307.6, 308.423, 'speaker_1'], [313.936, 314.573, 'speaker_1'], [324.992, 325.504, 'speaker_1'], [331.328, 356.425, 'speaker_3'], [344.192, 346.176, 'speaker_1'], [344.22, 345.142, 'speaker_0'], [355.558, 356.832, 'speaker_1'], [356.425, 382.503, 'speaker_3'], [381.408, 382.243, 'speaker_1'], [382.503, 406.96, 'speaker_3'], [382.56, 384.686, 'speaker_0'], [409.584, 431.024, 'speaker_3'], [432.032, 450.954, 'speaker_3'], [441.728, 442.376, 'speaker_1'], [449.552, 451.417, 'speaker_1'], [450.954, 466.672, 'speaker_3'], [467.537, 470.629, 'speaker_3'], [471.584, 492.176, 'speaker_3'], [494.016, 502.288, 'speaker_3'], [503.728, 525.056, 'speaker_3'], [525.28, 525.856, 'speaker_1'], [526.82, 545.351, 'speaker_3'], [526.848, 527.378, 'speaker_1'], [545.584, 546.08, 'speaker_1'], [545.926, 547.968, 'speaker_3'], [548.64, 549.04, 'speaker_1'], [549.04, 578.432, 'speaker_3'], [563.163, 564.431, 'speaker_1'], [579.936, 587.184, 'speaker_3'], [580.755, 581.6, 'speaker_1'], [583.024, 583.863, 'speaker_1'], [585.968, 586.384, 'speaker_1'], [588.112, 594.32, 'speaker_1'], [588.576, 589.359, 'speaker_3'], [592.369, 592.75, 'speaker_3'], [596.096, 598.832, 'speaker_1'], [640.704, 641.68, 'speaker_2'], [641.504, 642.8, 'speaker_1'], [645.84, 646.798, 'speaker_1'], [646.496, 647.46, 'speaker_3'], [647.728, 649.488, 'speaker_0'], [650.736, 651.12, 'speaker_0'], [657.12, 659.117, 'speaker_1'], [657.265, 657.755, 'speaker_3'], [657.937, 659.392, 'speaker_0'], [662.032, 662.83, 'speaker_1'], [664.548, 666.896, 'speaker_2'], [668.432, 687.376, 'speaker_2'], [688.768, 698.96, 'speaker_2'], [699.12, 699.568, 'speaker_1'], [702.8, 708.512, 'speaker_2'], [709.584, 721.898, 'speaker_2'], [721.52, 721.984, 'speaker_1'], [722.8, 743.024, 'speaker_2'], [744.672, 756.304, 'speaker_2'], [757.123, 762.976, 'speaker_2'], [763.448, 785.728, 'speaker_2'], [771.968, 772.498, 'speaker_1'], [786.849, 787.51, 'speaker_1'], [786.944, 793.152, 'speaker_2'], [791.815, 794.848, 'speaker_3'], [794.122, 807.488, 'speaker_1'], [798.092, 798.608, 'speaker_3'], [799.69, 802.96, 'speaker_0'], [800.158, 800.902, 'speaker_3'], [801.027, 803.568, 'speaker_2'], [804.632, 805.139, 'speaker_3'], [806.296, 807.104, 'speaker_2'], [806.509, 807.126, 'speaker_3'], [808.48, 828.795, 'speaker_2'], [815.552, 816.104, 'speaker_1'], [829.968, 834.592, 'speaker_2'], [835.248, 835.744, 'speaker_1'], [835.264, 835.765, 'speaker_3'], [836.416, 849.04, 'speaker_2'], [845.52, 845.984, 'speaker_1'], [849.271, 851.632, 'speaker_1'], [849.716, 851.086, 'speaker_2'], [854.032, 869.872, 'speaker_2'], [861.2, 861.696, 'speaker_1'], [868.478, 868.985, 'speaker_3'], [870.784, 871.344, 'speaker_3'], [870.943, 871.904, 'speaker_1'], [874.048, 874.49, 'speaker_2'], [874.08, 874.579, 'speaker_0'], [874.528, 875.328, 'speaker_1'], [875.808, 878.352, 'speaker_3'], [878.532, 879.597, 'speaker_0'], [878.576, 882.625, 'speaker_1'], [880.841, 883.262, 'speaker_0'], [882.4, 883.232, 'speaker_3'], [896.054, 897.104, 'speaker_2'], [899.824, 904.176, 'speaker_3'], [902.093, 903.429, 'speaker_2'], [902.096, 903.824, 'speaker_1'], [915.145, 915.92, 'speaker_0'], [916.0, 919.072, 'speaker_1'], [918.528, 922.832, 'speaker_0'], [920.512, 920.992, 'speaker_1'], [925.056, 926.064, 'speaker_0'], [930.402, 931.451, 'speaker_0'], [932.544, 933.52, 'speaker_1'], [944.544, 944.816, 'speaker_1'], [946.911, 948.304, 'speaker_3'], [953.823, 955.52, 'speaker_0'], [957.44, 973.449, 'speaker_0'], [959.037, 960.348, 'speaker_3'], [966.4, 966.901, 'speaker_3'], [973.449, 992.108, 'speaker_0'], [975.664, 976.224, 'speaker_1'], [992.108, 1017.663, 'speaker_0'], [1017.663, 1041.48, 'speaker_0'], [1017.824, 1018.543, 'speaker_3'], [1041.09, 1041.64, 'speaker_2'], [1041.48, 1058.488, 'speaker_0'], [1047.968, 1048.484, 'speaker_3'], [1048.001, 1048.704, 'speaker_1'], [1058.488, 1068.72, 'speaker_0'], [1058.88, 1059.193, 'speaker_2'], [1060.736, 1061.168, 'speaker_1'], [1063.488, 1063.936, 'speaker_3'], [1065.936, 1066.704, 'speaker_3'], [1068.848, 1069.862, 'speaker_3'], [1070.096, 1089.52, 'speaker_0'], [1076.297, 1076.771, 'speaker_3'], [1090.24, 1090.752, 'speaker_1'], [1090.672, 1095.472, 'speaker_0'], [1094.572, 1097.328, 'speaker_1'], [1097.808, 1119.095, 'speaker_0'], [1104.016, 1104.784, 'speaker_1'], [1105.445, 1105.978, 'speaker_3'], [1107.424, 1107.936, 'speaker_1'], [1115.248, 1115.664, 'speaker_1'], [1119.095, 1141.53, 'speaker_0'], [1121.392, 1121.952, 'speaker_1'], [1126.288, 1126.656, 'speaker_3'], [1127.744, 1129.403, 'speaker_3'], [1141.53, 1179.199, 'speaker_0'], [1143.577, 1144.0, 'speaker_3'], [1146.044, 1146.544, 'speaker_3'], [1149.724, 1150.291, 'speaker_3'], [1162.961, 1163.728, 'speaker_1'], [1166.272, 1168.121, 'speaker_1'], [1168.73, 1169.449, 'speaker_3'], [1168.736, 1170.32, 'speaker_1'], [1179.199, 1193.099, 'speaker_0'], [1181.36, 1181.728, 'speaker_1'], [1183.395, 1184.128, 'speaker_2'], [1183.542, 1184.075, 'speaker_3'], [1185.022, 1185.555, 'speaker_3'], [1189.134, 1191.984, 'speaker_2'], [1193.099, 1222.283, 'speaker_0'], [1195.705, 1196.229, 'speaker_3'], [1196.464, 1197.888, 'speaker_1'], [1203.52, 1204.106, 'speaker_1'], [1206.056, 1206.631, 'speaker_3'], [1212.505, 1212.987, 'speaker_3'], [1212.512, 1215.479, 'speaker_1'], [1215.152, 1215.568, 'speaker_3'], [1217.426, 1218.965, 'speaker_3'], [1217.461, 1218.205, 'speaker_1'], [1221.584, 1221.849, 'speaker_3'], [1222.283, 1249.678, 'speaker_0'], [1223.31, 1223.921, 'speaker_1'], [1225.749, 1229.444, 'speaker_2'], [1227.344, 1227.651, 'speaker_3'], [1227.52, 1228.884, 'speaker_1'], [1240.224, 1240.897, 'speaker_3'], [1248.012, 1248.528, 'speaker_1'], [1249.678, 1271.392, 'speaker_0'], [1258.688, 1259.264, 'speaker_1'], [1263.035, 1264.726, 'speaker_3'], [1265.936, 1266.288, 'speaker_3'], [1272.602, 1300.6, 'speaker_0'], [1282.96, 1283.583, 'speaker_1'], [1294.592, 1295.344, 'speaker_3'], [1299.8, 1300.432, 'speaker_1'], [1300.6, 1319.037, 'speaker_0'], [1302.768, 1304.832, 'speaker_3'], [1308.64, 1309.136, 'speaker_1'], [1311.372, 1312.234, 'speaker_1'], [1316.832, 1317.312, 'speaker_1'], [1318.416, 1319.767, 'speaker_1'], [1318.447, 1321.579, 'speaker_3'], [1321.208, 1328.765, 'speaker_1'], [1326.222, 1326.624, 'speaker_3'], [1327.904, 1333.104, 'speaker_3'], [1333.248, 1340.532, 'speaker_0'], [1339.047, 1339.453, 'speaker_3'], [1339.072, 1339.568, 'speaker_1'], [1340.144, 1343.824, 'speaker_3'], [1344.352, 1347.26, 'speaker_1'], [1346.72, 1347.424, 'speaker_3'], [1348.336, 1349.984, 'speaker_3'], [1351.216, 1365.828, 'speaker_3'], [1353.408, 1353.918, 'speaker_1'], [1356.032, 1356.448, 'speaker_1'], [1364.608, 1375.632, 'speaker_0'], [1371.712, 1374.169, 'speaker_3'], [1374.976, 1390.704, 'speaker_3'], [1378.97, 1379.536, 'speaker_0'], [1385.984, 1386.754, 'speaker_1'], [1386.4, 1387.071, 'speaker_0'], [1390.624, 1394.565, 'speaker_1'], [1391.36, 1391.76, 'speaker_0'], [1391.712, 1393.104, 'speaker_3'], [1394.096, 1404.691, 'speaker_3'], [1396.944, 1397.504, 'speaker_1'], [1404.368, 1410.278, 'speaker_0'], [1409.36, 1411.296, 'speaker_3'], [1409.597, 1410.398, 'speaker_1'], [1411.536, 1425.776, 'speaker_0'], [1414.272, 1414.608, 'speaker_3'], [1415.361, 1415.808, 'speaker_3'], [1415.52, 1415.92, 'speaker_1'], [1418.784, 1419.387, 'speaker_1'], [1420.564, 1421.164, 'speaker_3'], [1422.016, 1422.408, 'speaker_3'], [1423.734, 1424.448, 'speaker_1'], [1425.168, 1425.52, 'speaker_3'], [1425.952, 1448.687, 'speaker_1'], [1426.88, 1428.096, 'speaker_0'], [1427.909, 1429.074, 'speaker_3'], [1438.031, 1438.564, 'speaker_3'], [1447.588, 1449.323, 'speaker_3'], [1448.687, 1460.032, 'speaker_1'], [1454.048, 1454.406, 'speaker_3'], [1456.272, 1456.56, 'speaker_3'], [1462.128, 1468.88, 'speaker_1'], [1469.44, 1479.184, 'speaker_2'], [1479.6, 1486.112, 'speaker_1'], [1486.416, 1489.773, 'speaker_2'], [1488.512, 1500.576, 'speaker_1'], [1501.303, 1502.528, 'speaker_0'], [1501.36, 1501.68, 'speaker_2'], [1501.648, 1514.556, 'speaker_1'], [1501.665, 1502.367, 'speaker_3'], [1505.216, 1505.632, 'speaker_3'], [1511.924, 1512.364, 'speaker_3'], [1515.377, 1523.872, 'speaker_1'], [1524.643, 1525.28, 'speaker_1'], [1524.688, 1551.485, 'speaker_3'], [1530.32, 1530.816, 'speaker_1'], [1537.664, 1538.032, 'speaker_1'], [1551.485, 1574.64, 'speaker_3'], [1561.184, 1561.664, 'speaker_1'], [1565.024, 1565.534, 'speaker_1'], [1575.328, 1575.952, 'speaker_1'], [1575.872, 1576.608, 'speaker_3'], [1577.536, 1578.176, 'speaker_1'], [1578.64, 1589.331, 'speaker_0'], [1586.096, 1586.957, 'speaker_3'], [1587.616, 1590.368, 'speaker_1'], [1590.288, 1593.472, 'speaker_0'], [1593.392, 1593.76, 'speaker_3'], [1593.84, 1611.107, 'speaker_1'], [1594.334, 1598.738, 'speaker_0'], [1595.952, 1596.654, 'speaker_2'], [1607.063, 1607.456, 'speaker_3'], [1611.107, 1623.44, 'speaker_1'], [1624.736, 1631.184, 'speaker_1'], [1628.681, 1634.784, 'speaker_3'], [1636.064, 1641.873, 'speaker_3'], [1641.264, 1647.04, 'speaker_1'], [1642.55, 1643.037, 'speaker_3'], [1647.7, 1650.048, 'speaker_2'], [1650.032, 1651.056, 'speaker_1'], [1651.216, 1657.072, 'speaker_2'], [1653.12, 1653.552, 'speaker_1'], [1657.584, 1659.808, 'speaker_1'], [1657.643, 1659.366, 'speaker_3'], [1660.864, 1661.2, 'speaker_3'], [1661.248, 1664.144, 'speaker_1'], [1664.208, 1669.072, 'speaker_3'], [1669.738, 1671.463, 'speaker_1'], [1670.038, 1672.018, 'speaker_2'], [1670.056, 1672.832, 'speaker_3'], [1690.752, 1700.912, 'speaker_2'], [1695.805, 1697.536, 'speaker_1'], [1696.168, 1696.76, 'speaker_3'], [1700.704, 1701.072, 'speaker_3'], [1700.992, 1701.792, 'speaker_1'], [1703.008, 1703.376, 'speaker_3'], [1703.344, 1708.448, 'speaker_1'], [1711.92, 1721.504, 'speaker_1'], [1720.933, 1721.517, 'speaker_3'], [1722.704, 1729.84, 'speaker_2'], [1722.726, 1723.335, 'speaker_3'], [1727.104, 1727.568, 'speaker_1'], [1730.016, 1754.88, 'speaker_1'], [1747.292, 1748.448, 'speaker_2'], [1755.392, 1759.086, 'speaker_2'], [1757.2, 1771.472, 'speaker_1'], [1772.784, 1773.344, 'speaker_2'], [1773.264, 1777.187, 'speaker_0'], [1776.405, 1780.494, 'speaker_1'], [1779.104, 1787.2, 'speaker_0'], [1779.849, 1781.225, 'speaker_3'], [1783.201, 1783.861, 'speaker_3'], [1785.146, 1802.458, 'speaker_3'], [1794.905, 1795.598, 'speaker_1'], [1797.822, 1798.363, 'speaker_0'], [1801.813, 1812.57, 'speaker_0'], [1806.398, 1807.232, 'speaker_3'], [1807.104, 1808.797, 'speaker_1'], [1809.252, 1809.898, 'speaker_1'], [1810.554, 1813.765, 'speaker_1'], [1810.843, 1812.526, 'speaker_3'], [1813.472, 1836.848, 'speaker_0'], [1816.628, 1818.592, 'speaker_1'], [1821.146, 1821.797, 'speaker_1'], [1822.759, 1823.52, 'speaker_1'], [1827.886, 1829.306, 'speaker_3'], [1830.432, 1830.972, 'speaker_3'], [1833.232, 1838.633, 'speaker_1'], [1834.295, 1834.87, 'speaker_3'], [1836.113, 1836.764, 'speaker_2'], [1837.942, 1839.04, 'speaker_0'], [1839.568, 1843.344, 'speaker_1'], [1844.218, 1852.449, 'speaker_0'], [1844.336, 1844.751, 'speaker_3'], [1844.341, 1848.989, 'speaker_1'], [1845.408, 1847.415, 'speaker_2'], [1846.896, 1847.412, 'speaker_3'], [1850.479, 1851.581, 'speaker_3'], [1850.864, 1864.368, 'speaker_1'], [1864.384, 1874.096, 'speaker_2'], [1869.136, 1869.696, 'speaker_1'], [1874.224, 1880.31, 'speaker_1'], [1880.016, 1881.987, 'speaker_3'], [1880.787, 1891.12, 'speaker_0'], [1885.942, 1886.543, 'speaker_3'], [1887.639, 1888.448, 'speaker_2'], [1887.648, 1887.952, 'speaker_3'], [1891.216, 1899.44, 'speaker_1'], [1896.304, 1896.818, 'speaker_0'], [1910.544, 1929.376, 'speaker_1'], [1925.645, 1926.928, 'speaker_3'], [1927.659, 1938.144, 'speaker_3'], [1936.141, 1942.669, 'speaker_0'], [1939.043, 1941.936, 'speaker_3'], [1942.932, 1944.096, 'speaker_1'], [1943.266, 1954.058, 'speaker_3'], [1944.299, 1944.84, 'speaker_0'], [1950.976, 1951.596, 'speaker_1'], [1954.058, 1972.586, 'speaker_3'], [1961.328, 1961.952, 'speaker_1'], [1962.064, 1962.885, 'speaker_0'], [1969.472, 1970.08, 'speaker_1'], [1970.992, 1997.008, 'speaker_1'], [1980.4, 1980.769, 'speaker_3'], [1984.496, 1984.88, 'speaker_3'], [1991.589, 1992.886, 'speaker_0'], [1997.062, 2002.052, 'speaker_3'], [2000.4, 2003.632, 'speaker_1'], [2005.136, 2006.096, 'speaker_2'], [2005.184, 2005.808, 'speaker_1'], [2005.765, 2008.976, 'speaker_3'], [2010.496, 2038.806, 'speaker_3'], [2014.968, 2015.475, 'speaker_1'], [2024.752, 2025.28, 'speaker_1'], [2036.4, 2036.916, 'speaker_1'], [2038.0, 2041.744, 'speaker_1'], [2040.672, 2043.691, 'speaker_3'], [2042.431, 2057.504, 'speaker_0'], [2044.488, 2045.656, 'speaker_3'], [2045.862, 2047.552, 'speaker_1'], [2046.574, 2047.259, 'speaker_3'], [2053.84, 2056.419, 'speaker_2'], [2054.176, 2055.158, 'speaker_3'], [2055.447, 2063.356, 'speaker_1'], [2056.88, 2058.096, 'speaker_3'], [2058.656, 2059.704, 'speaker_0'], [2059.38, 2060.091, 'speaker_3'], [2060.784, 2061.76, 'speaker_0'], [2062.8, 2075.456, 'speaker_0'], [2065.424, 2065.824, 'speaker_3'], [2068.352, 2069.627, 'speaker_3'], [2070.794, 2071.572, 'speaker_3'], [2073.92, 2074.24, 'speaker_3'], [2075.376, 2077.267, 'speaker_3'], [2076.825, 2077.664, 'speaker_1'], [2077.024, 2083.232, 'speaker_0'], [2078.963, 2079.724, 'speaker_1'], [2079.858, 2080.32, 'speaker_3'], [2081.38, 2107.125, 'speaker_3'], [2082.188, 2083.04, 'speaker_1'], [2100.448, 2101.216, 'speaker_1'], [2105.27, 2120.176, 'speaker_0'], [2113.706, 2114.349, 'speaker_2'], [2113.932, 2114.837, 'speaker_3'], [2114.048, 2114.732, 'speaker_1'], [2120.288, 2122.784, 'speaker_3'], [2121.216, 2126.851, 'speaker_1'], [2126.256, 2152.32, 'speaker_0'], [2128.238, 2129.92, 'speaker_1'], [2134.24, 2134.592, 'speaker_3'], [2136.672, 2137.104, 'speaker_1'], [2141.205, 2141.829, 'speaker_3'], [2143.4, 2147.935, 'speaker_1'], [2143.453, 2144.121, 'speaker_3'], [2145.466, 2147.445, 'speaker_3'], [2149.965, 2150.777, 'speaker_3'], [2150.448, 2156.34, 'speaker_2'], [2155.324, 2156.119, 'speaker_1'], [2155.712, 2160.167, 'speaker_0'], [2155.834, 2156.351, 'speaker_3'], [2160.544, 2161.264, 'speaker_1'], [2160.585, 2161.583, 'speaker_2'], [2160.976, 2164.497, 'speaker_0'], [2162.944, 2163.454, 'speaker_1'], [2163.021, 2170.496, 'speaker_3'], [2164.64, 2165.302, 'speaker_1'], [2167.875, 2168.383, 'speaker_2'], [2168.608, 2169.024, 'speaker_0'], [2170.672, 2193.232, 'speaker_1'], [2171.554, 2172.23, 'speaker_3'], [2180.397, 2180.811, 'speaker_3'], [2182.384, 2182.64, 'speaker_3'], [2193.2, 2205.456, 'speaker_3'], [2197.888, 2198.626, 'speaker_1'], [2205.504, 2209.552, 'speaker_1'], [2206.638, 2207.382, 'speaker_3'], [2208.356, 2208.788, 'speaker_3'], [2209.504, 2215.024, 'speaker_3'], [2214.16, 2218.432, 'speaker_1'], [2216.064, 2221.92, 'speaker_3'], [2222.864, 2227.762, 'speaker_1'], [2225.898, 2227.584, 'speaker_3'], [2226.608, 2229.104, 'speaker_0'], [2229.024, 2235.678, 'speaker_3'], [2235.038, 2247.447, 'speaker_0'], [2237.778, 2241.446, 'speaker_3'], [2241.404, 2241.987, 'speaker_1'], [2242.832, 2245.286, 'speaker_3'], [2242.893, 2243.553, 'speaker_2'], [2244.473, 2245.264, 'speaker_1'], [2246.74, 2264.27, 'speaker_1'], [2246.775, 2250.589, 'speaker_2'], [2246.787, 2247.937, 'speaker_3'], [2249.417, 2252.476, 'speaker_3'], [2260.688, 2261.056, 'speaker_3'], [2264.27, 2277.848, 'speaker_1'], [2266.341, 2266.916, 'speaker_3'], [2275.741, 2276.755, 'speaker_3'], [2276.082, 2285.264, 'speaker_0'], [2283.488, 2288.512, 'speaker_3'], [2286.832, 2295.182, 'speaker_0'], [2289.413, 2289.726, 'speaker_3'], [2291.104, 2291.36, 'speaker_3'], [2293.111, 2293.633, 'speaker_1'], [2294.672, 2297.79, 'speaker_1'], [2295.96, 2296.679, 'speaker_2'], [2296.304, 2300.592, 'speaker_0'], [2297.365, 2309.536, 'speaker_3'], [2299.456, 2299.92, 'speaker_1'], [2302.368, 2304.544, 'speaker_0'], [2303.152, 2303.713, 'speaker_1'], [2309.764, 2311.644, 'speaker_1'], [2311.136, 2322.528, 'speaker_3'], [2312.544, 2313.616, 'speaker_1'], [2315.936, 2316.688, 'speaker_1'], [2317.444, 2318.416, 'speaker_1'], [2322.457, 2325.56, 'speaker_0'], [2322.788, 2323.388, 'speaker_1'], [2323.603, 2324.853, 'speaker_2'], [2324.432, 2333.39, 'speaker_3'], [2327.232, 2327.894, 'speaker_0'], [2328.704, 2329.616, 'speaker_0'], [2331.6, 2333.648, 'speaker_0'], [2332.453, 2349.648, 'speaker_1'], [2342.514, 2343.022, 'speaker_3'], [2345.294, 2346.038, 'speaker_3'], [2348.767, 2349.209, 'speaker_3'], [2350.032, 2351.472, 'speaker_0'], [2351.392, 2352.944, 'speaker_1'], [2356.389, 2359.75, 'speaker_0'], [2358.508, 2359.239, 'speaker_3'], [2365.054, 2369.303, 'speaker_0'], [2372.907, 2380.417, 'speaker_0'], [2383.319, 2384.03, 'speaker_0'], [2393.863, 2398.29, 'speaker_0'], [2399.862, 2403.262, 'speaker_0'], [2405.533, 2406.239, 'speaker_0']]\n"
          ],
          "name": "stdout"
        }
      ]
    },
    {
      "cell_type": "code",
      "metadata": {
        "id": "PCfvRkIZkWGz"
      },
      "source": [
        "########################################\r\n",
        "#### Generate SCP from PRAAT Output ####\r\n",
        "########################################\r\n",
        "f = open('IS1000a_Mix-Headset_25', 'r') #Give praat output file name\r\n",
        "fw = open('IS1000a.scp', 'a') #Give scp file name to be generated\r\n",
        "lst = f.readlines()\r\n",
        "# scp_vec = np.zeros((227976), dtype=int)\r\n",
        "for i in range(13, len(lst)-2):\r\n",
        "  if lst[i+2] == '\"sounding\"\\n':\r\n",
        "    l = int(float(lst[i])*100)\r\n",
        "    r = int(float(lst[i+1])*100)\r\n",
        "    curLine = 'IS1000a_'+str(l)+'_'+str(r)+'=IS1000a.fea['+str(l)+','+str(r)+']\\n' ##Change according to the name of scp file\r\n",
        "    fw.writelines(curLine)     \r\n",
        "f.close()\r\n",
        "fw.close()"
      ],
      "execution_count": null,
      "outputs": []
    }
  ]
}